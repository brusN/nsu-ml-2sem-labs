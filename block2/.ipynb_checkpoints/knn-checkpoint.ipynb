{
 "cells": [
  {
   "cell_type": "markdown",
   "source": [
    "# Краткая информация\n",
    "\n",
    ">KNN - k-ближайших соседей (англ. k-nearest neighbors algorithm) — метрический алгоритм для автоматической классификации объектов или регрессии. \n",
    "\n",
    "- В случае использования метода для классификации объект присваивается тому классу, который является наиболее распространённым среди k-соседей данного элемента, классы которых уже известны. \n",
    "- В случае использования метода для регрессии, объекту присваивается среднее значение по ближайшим к нему объектам, значения которых уже известны. Алгоритм может быть применим к выборкам с большим количеством атрибутов (многомерным). Для этого перед применением нужно определить функцию расстояния, например, евлидова метрика"
   ],
   "metadata": {
    "collapsed": false
   },
   "id": "c4e47483f2b8f0a9"
  },
  {
   "cell_type": "markdown",
   "source": [
    "# Используемые библиотки"
   ],
   "metadata": {
    "collapsed": false
   },
   "id": "96bf5c8452a740ab"
  },
  {
   "cell_type": "code",
   "outputs": [],
   "source": [
    "import numpy as np\n",
    "import pandas as pd\n",
    "import seaborn as sns"
   ],
   "metadata": {
    "collapsed": false
   },
   "id": "76ebb4c102417057",
   "execution_count": null
  }
 ],
 "metadata": {
  "kernelspec": {
   "display_name": "Python 3",
   "language": "python",
   "name": "python3"
  },
  "language_info": {
   "codemirror_mode": {
    "name": "ipython",
    "version": 2
   },
   "file_extension": ".py",
   "mimetype": "text/x-python",
   "name": "python",
   "nbconvert_exporter": "python",
   "pygments_lexer": "ipython2",
   "version": "2.7.6"
  }
 },
 "nbformat": 4,
 "nbformat_minor": 5
}
